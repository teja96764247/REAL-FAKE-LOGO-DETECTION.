{
  "nbformat": 4,
  "nbformat_minor": 0,
  "metadata": {
    "colab": {
      "provenance": []
    },
    "kernelspec": {
      "name": "python3",
      "display_name": "Python 3"
    },
    "language_info": {
      "name": "python"
    }
  },
  "cells": [
    {
      "cell_type": "code",
      "execution_count": 1,
      "metadata": {
        "id": "BpD7XIZ_ILf3"
      },
      "outputs": [],
      "source": [
        "!mkdir -p ~/.kaggle\n",
        "!cp kaggle.json ~/.kaggle/\n",
        "!chmod 600 ~/.kaggle/kaggle.json"
      ]
    },
    {
      "cell_type": "code",
      "source": [
        "!kaggle datasets download -d gauravduttakiit/fakereal-logo-detection"
      ],
      "metadata": {
        "colab": {
          "base_uri": "https://localhost:8080/"
        },
        "id": "VF1VyJMfIO3Y",
        "outputId": "0c5cbea0-ba95-40d2-be50-66733da3d888"
      },
      "execution_count": 2,
      "outputs": [
        {
          "output_type": "stream",
          "name": "stdout",
          "text": [
            "Downloading fakereal-logo-detection.zip to /content\n",
            "100% 27.0M/27.0M [00:01<00:00, 29.2MB/s]\n",
            "100% 27.0M/27.0M [00:01<00:00, 19.8MB/s]\n"
          ]
        }
      ]
    },
    {
      "cell_type": "code",
      "source": [
        "from zipfile import ZipFile\n",
        "dataset = '/content/fakereal-logo-detection.zip'\n",
        "\n",
        "with ZipFile(dataset,'r') as zip:\n",
        "  zip.extractall()\n",
        "  print('The dataset is extracted')"
      ],
      "metadata": {
        "colab": {
          "base_uri": "https://localhost:8080/"
        },
        "id": "4lGgTGnsIO6W",
        "outputId": "43c347e1-834c-4672-c377-ec98d465a3e3"
      },
      "execution_count": 3,
      "outputs": [
        {
          "output_type": "stream",
          "name": "stdout",
          "text": [
            "The dataset is extracted\n"
          ]
        }
      ]
    },
    {
      "cell_type": "code",
      "source": [
        "import numpy as np\n",
        "import pandas as pd\n",
        "import matplotlib.pyplot as plt\n",
        "import os\n",
        "import cv2\n",
        "from google.colab.patches import cv2_imshow\n",
        "from PIL import Image"
      ],
      "metadata": {
        "id": "Of9NAkkeIcAG"
      },
      "execution_count": 4,
      "outputs": []
    },
    {
      "cell_type": "code",
      "source": [
        "train_folder=os.listdir('/content/train')\n",
        "print(train_folder)\n",
        "print(len(train_folder))"
      ],
      "metadata": {
        "colab": {
          "base_uri": "https://localhost:8080/"
        },
        "id": "Y5-2OGRxIqA2",
        "outputId": "980ed368-81b5-4c2c-9166-bfbd0dcc05f6"
      },
      "execution_count": 5,
      "outputs": [
        {
          "output_type": "stream",
          "name": "stdout",
          "text": [
            "['Genuine', 'Fake']\n",
            "2\n"
          ]
        }
      ]
    },
    {
      "cell_type": "code",
      "source": [
        "data=[]"
      ],
      "metadata": {
        "id": "fedbGfMxJHnu"
      },
      "execution_count": 8,
      "outputs": []
    },
    {
      "cell_type": "code",
      "source": [
        "fake_logo_folder=os.listdir('/content/train/Fake')\n",
        "print(fake_logo_folder)\n",
        "print(len(fake_logo_folder))"
      ],
      "metadata": {
        "colab": {
          "base_uri": "https://localhost:8080/"
        },
        "id": "Tka2LSVFIy-W",
        "outputId": "8c18c883-0033-4c0e-f54e-9d0dd12f4a38"
      },
      "execution_count": 7,
      "outputs": [
        {
          "output_type": "stream",
          "name": "stdout",
          "text": [
            "['scal_000005_fdf3ec20da3441c0b4f78087cc7910f9.jpg', 'scal_000005_3f2e50e35c6341d980a36b383fac5652.jpg', 'scal_000003_dc31b086350f4902aaac14da9646d0f3.jpg', '000004_e23ac0a097d745cf9088b4afe9a52766.jpg', 'scal_000001_731c80275bd64210b6bd64bfe6eb9a8f.jpg', 'scal_000002_3611d6d9643247178e123b92c26559d6.jpg', '000005_5c7317d3e3474b0b9d56edaf324519ac.jpg', 'scal_000005_60eabe5b53df4f9bb6fadbe8c9b85a52.jpg', 'scal_000002_dfa777556b4644899fcc03fb21947acb.jpg', 'scal_000005_bc7f245635a44d088dfc8ac0c1898dcd.jpg', '000002_4503b9481ee14f309c41ad6b6e940897.jpg', 'scal_000004_64428b25019c4caca6bcc6e452e1934d.jpg', 'scal_000003_24f7603d37cf44f28fb89a387b6fd68a.jpg', 'scal_000003_1d160dd8b1614c45b530c8f74f599b78.jpg', 'scal_000005_7b15e32aea5f4aeeb43be2d1636a85dd.jpg', 'scal_000002_b7da65a1d41644c6ba715811e32aa442.jpg', 'scal_000003_494d5d60fce54a7b9c6bcf96aa8a2cb4.jpg', '000005_e477f897f6a246ed8cb5a0327939072f.jpg', '000001_9ab93958c5244fb38d4a41a4a84344ef.jpg', '000003_79c36f72c40f498e82468cd400a55276.jpg', 'scal_000001_da744fdc92f5423a882757ba20e05f07.jpg', '000001_99b30fdabe3646c2855a8f63d49507e5.jpg', '000005_39fe76364ec34943a3021f97bdac089c.jpg', '000004_452ddf63daad47ba9ea98812d7b264ce.jpg', 'scal_000003_da6d0ca0e4454456aac6822073bc97b0.jpg', '000004_f3831aa6ebcd480590fa8d661679eefd.jpg', 'scal_000001_148f3626f5654f9494f506dc0ae470f2.jpg', 'scal_000004_ea3dcd9f8b18461386bafd85ce47b12c.jpg', '000003_53afd7f4f1244ecfaf8e30259a158959.jpg', '000004_8c87d77c9fd241538388d2ea2f07c4a3.jpg', 'scal_000002_c2eb429ab13a4d0aa3192278ece73754.jpg', 'scal_000005_e440937c29514c0fa3b17db393f85e32.jpg', 'scal_000004_43ac16aece334785863383843c9ded88.jpg', '000003_1e5a171cb68f47bebaa29ab8b44e394c.jpg', '000005_a7f9596e8e8743979bfa86e526486654.jpg', '000005_3c18fb80220546319cb1eb4533e8e7e4.jpg', '000002_90a4d163efb84eef99abd334ba1f595d.jpg', '000001_d4a8f2f537cf4966aed729b245c754c5.jpg', '000002_e9f126a8e33443e5a704e2743080b0a3.jpg', 'scal_000004_be52110212ea415b90117428eb49a6ed.jpg', 'scal_000005_0b78d45241964f1a8603a6da6c32c511.jpg', '000002_b2f42d4a516149a5a87685c5aee3ac70.jpg', 'scal_000001_febab54b3bd740a99c2f227104ecb8f3.jpg', '000004_cab0e12fef7b4161900ecc2a6ae0b2fc.jpg', 'scal_000004_26eb204160cd4c18ba0833585f2c9393.jpg', '000001_9627a42cfee54892843d46111eb03aea.jpg', '000002_d07c5aba37164f889edfc1d0ba079b60.jpg', '000001_0b52963092fa40cc80cca9c7ac816b38.jpg', 'scal_000004_9fa1bb1e1f9a4393ab88f0889bd2971e.jpg', 'scal_000003_c83862532c1d4cc7aa19d02f6865fc96.jpg', '000001_38da6831723f4f9a9a9de168e7cd3122.jpg', 'scal_000003_a89cc3ad1efa4924a10c78b58cd212e2.jpg', '000002_fed9c357bd3545cdbfd3917e60e503d3.jpg', '000005_458a398052d0428aa36c40ab447d5587.jpg', '000004_07ed3673aeb54e46901f87fedabf4dec.jpg', 'scal_000003_73f957afc22d4cd9b1831060d0056a28.jpg', '000005_d17510f0d401447d94efce12949ffc5d.jpg', 'scal_000001_ef4ece68d05047779095b1fe69f14b62.jpg', 'scal_000001_d874fc028d9341ab842755d5709d3d9f.jpg', 'scal_000003_789490554cdf444689ae69a83bedb8b9.jpg', 'scal_000004_653646f8367446d6bbdfb52dbc56f2ed.jpg', 'scal_000002_63d58f9060b4482b907f3e2e078e7e35.jpg', '000001_b93b14012c554f4fbf11e54e0043b887.jpg', '000001_b2ea59ab8a554c7b9bb61a444b3208c3.jpg', '000004_748c881ca3e243179c569135656c95fc.jpg', 'scal_000001_0c06fc33c694456fbe8f70f132705385.jpg', '000003_e89e45885aa74e2ea80502cc4538bd44.jpg', '000003_b4c6a2647d77402b8941778564c5497e.jpg', '000002_3959a27e27f346f0b6e83be8f2784f9c.jpg', 'scal_000004_c03d2d32df6040fc949b2b734a93f272.jpg', 'scal_000005_cfeb3ba9eec44ddd98d10014ecc70c1b.jpg', '000005_5f60ad36c27e400abb5a39bf6ec9807f.jpg', '000002_fa399b85e3774757b3302acddf9e3e31.jpg', '000001_bf55e371f0ad4714806519b0a007b3d0.jpg', '000003_0cb6d7e5ba6a4697a89d4f4a20dc7bd4.jpg', 'scal_000001_ff493131c8234bb9be5827ed81d25bb6.jpg', 'scal_000005_71ecb71e5f1e48aca93f2730535c87da.jpg', '000005_6da06539e5ad4689b8288d4670d39bba.jpg', 'scal_000002_79bf6797f47a4849a1197dcac368822a.jpg', '000003_89b57597f9c74bda93e1492ca7e5eba6.jpg', 'scal_000002_909db17ffd704d08bd8652a56b29de3b.jpg', '000002_8a8e2ac76b014d2da646d4de083b61ed.jpg', 'scal_000004_7dce8335e6ae40adb62a84afa9e25ff4.jpg', 'scal_000004_8e43558ae714493580d8d0cdefc3aa38.jpg', 'scal_000004_e1ce47229b1d4d2b80708010ca815252.jpg', '000004_202cf68eb54844a6b3c1e3a53e3d1bec.jpg', 'scal_000004_b9e7d1baafbd4a9d9a75e113c3fa61ae.jpg', 'scal_000001_1f4609445561461a94b727ea46b90a25.jpg', 'scal_000005_99c84473fd934a909c5f18bfdb3c8f2a.jpg', '000002_ad3c3be3738b479ebddef68822ec4b56.jpg', 'scal_000005_206c258dc8844e4f80615b5f2516073f.jpg', '000001_0fdfce6bf725435d99b7b649475a6726.jpg', '000001_50690ca0f265417a861a08eeeb00aa85.jpg', 'scal_000002_908b534d83f349549b9d1ee8317317b5.jpg', '000003_219ff8ff83d941b5ad689a5d1a8ef17c.jpg', '000003_724a82475ca1445f94b70e3e72de5dc3.jpg', 'scal_000001_423bc5d52b7d4608af1b0ff3f8679fae.jpg', '000001_c7749edba4cb4a1980d0f5281bf78799.jpg', '000002_6d33526012014ba39de8ab5063302c70.jpg', '000003_9cc185b887fb48b581ea89d5e5b20eed.jpg', 'scal_000003_8b0b9cff404c4cfba92606dc8a76214b.jpg', 'scal_000003_74b9b81129394b5184d683c5dd4ff7c1.jpg', '000005_1ce0c03e8f9a4a7cbefdb332f8cafe39.jpg', 'scal_000002_8946d284b2144abda24bdfa73c13167a.jpg', '000001_036396be499c46899722680ec28ddf27.jpg', '000003_dde620fd0c2e4289a274f26e6ef32049.jpg', '000004_3d80519d8143409fa150e9604b1f3c7b.jpg', '000004_f8d96f6c13344ef7b6dfeb648ea85418.jpg', '000001_2b5ce42b9b8d456d936e50438a251d59.jpg', '000001_423e95383f494f928267b4252395f66a.jpg', 'scal_000002_708e6313538b497e8b8954b5b5067193.jpg', '000002_d148227b58de4d9fb578561ccf3a64cb.jpg', '000003_f3c05b43df634f3187ab90a1d49c1813.jpg', 'scal_000004_7d315bbc75824ddbbe495b630cd00f7d.jpg', '000001_30063df255814663ad281844a29d4cba.jpg', '000005_08944a3039994d56b198dfa5270c9bbb.jpg', '000004_c3b64ca9fd014816ac23c41bac1aea9a.jpg', '000003_7d6d7bd9598046ed82391815a379f3f4.jpg', 'scal_000004_4005601b2cda4b8e9783253644647b95.jpg', 'scal_000004_65b1abdacaf9454e80d5af366539d544.jpg', 'scal_000003_8e868e318a49432da516f26bb05338d6.jpg', 'scal_000003_720bb38460c34f6b8d0221c05f279afd.jpg', '000003_db46d514d7814bb0a31fdac9fcaf76b1.jpg', 'scal_000001_4d3764d5defd4adbb246f8405def7e18.jpg', 'scal_000002_8999902e589b4ec7b7b16be57bb4528e.jpg', '000001_702b96ce5b504e50b3c324eeb0a0537b.jpg', 'scal_000001_22b0c59a386c46c69add434f75e99327.jpg', 'scal_000004_2544b21a3c354540aaeedcc696a09f68.jpg', '000003_fd18aaf8043547a5810a286a5d8b5892.jpg', 'scal_000003_09acb8c08c7e4a388a01299d2a77e90f.jpg', '000004_d203aee5338949e09edc21fcaec7e2fa.jpg', 'scal_000002_14b23def1a094439b3136dfe0d3b433a.jpg', '000005_7b78ee87ffba4a36a885c084544e8def.jpg', 'scal_000001_27f4ceb6b30e473fa1990a434e2ac9bf.jpg', '000001_152498810bd746509606e48d19f7d0db.jpg', '000005_7bd585fb160740538dc94e5b2b0edfe9.jpg', '000001_f0e0b8e064464c01ac1795a078565a84.jpg', '000003_ba2bb9b741e24df097ab097d3171aca9.jpg', 'scal_000003_43b1771786e04641a3472b6ef6076691.jpg', 'scal_000005_23103b0b3b7a47429bd14d73a5a2e8b4.jpg', '000003_da606227dd8d4468b57ef33f207aaf38.jpg', 'scal_000005_ba9c9a4e5a534f81b604d07e7c3ecf59.jpg', '000001_200a216fd7474f7baf58788ca44cfc4b.jpg', 'scal_000002_a60d2907bc134b3591cd3793019e9521.jpg', 'scal_000002_8ba6fb2e961a445b9b990385af71644e.jpg', '000002_f467e1c722594606bcdf1f4aa3ed28ce.jpg', '000002_9ba5242f37354ac5a19e98b39892ffef.jpg', 'scal_000004_4b383e8a1bf74d8cba208b1e86804e35.jpg', '000004_d1389c9663fe46f5bdb6a7ffc475191c.jpg', '000003_3259fdd8a231435ca9f22573e06f41d5.jpg', '000004_253f0004549f48a5abb8a06111f9ee5c.jpg', 'scal_000001_4c0eea09130a482494f4fa7e4ffdfed0.jpg', 'scal_000001_38727236005f4b71903f9c6222965c26.jpg', '000005_fb6d0a2e16554fd685efe608e75b30b8.jpg', 'scal_000005_723d1706f2c8434d8512347883a56439.jpg', 'scal_000002_dd109bcc60a241b7a36cc20706f87cbe.jpg', '000004_b7d1891f15004c5bb51df753ef8ef496.jpg', 'scal_000005_c7a63807e7a64cb395973e9b5c30cba6.jpg', 'scal_000002_feea431888b841f58491fe13aac04776.jpg', '000002_0a8c0065d22240be80ff74a356d5b858.jpg', '000005_e8449349938d4997b6e897e8bb6535c5.jpg', '000001_2c2b2272fd0b415b97582ce86a545b07.jpg', 'scal_000003_338676027e254d438e261c3ebaa7d96d.jpg', 'scal_000002_0984fb84632d414fa997f353da4167cb.jpg', 'scal_000005_1a0082e21ad24e578ebacea4835f0337.jpg', '000002_c586cdcb04fc4d938883882959dbfb3d.jpg', 'scal_000002_91c916cc4f2a4197aa3ceb793d4a2f51.jpg', 'scal_000001_5102c1aee06e4b4fa2191f823393c029.jpg', '000001_de5c65c566674d0aba232ea2d27d3e6d.jpg', 'scal_000003_64b2a65155da4f34b53e90c736581140.jpg', '000002_03e2775284e34bbdb3b2f37fbf43c68b.jpg', 'scal_000004_caabfaadecf04d0fbe137ee505f13a76.jpg', '000001_f2a2c4e389ae4585bf1da379405c0e6a.jpg', 'scal_000002_144f0c4aac8741058fc30757f3f75d1e.jpg', 'scal_000001_b15bc16ef0114a4ba3367a1ae45aeaf6.jpg', 'scal_000002_d7e945d98eb44e0189d88dd49299d6f1.jpg', '000003_fb7fd69a51784469b77f328f5fe5c367.jpg', 'scal_000005_49ba90d1c0c9418aabb5a444a50713e0.jpg', '000002_44ed5308caba4064b4506f3a26ba37cf.jpg', '000003_15a97dc91144488e88db0db3dd971bec.jpg', 'scal_000004_4a18e271d7834a728ef9c03b102c28b6.jpg', 'scal_000004_f14c5e797dd5442ab766a5e715546016.jpg', 'scal_000003_d7410680ed63403293823f516291e54c.jpg', '000005_0eab41d278204a18aa813d98d99669e1.jpg', 'scal_000001_cd6217ff68654e889637d2bbf838985b.jpg', '000004_f5dbe19cd88148eeaaf376d774a407c2.jpg', '000002_c85b873f0c564e608103d1c1d6db3369.jpg', 'scal_000001_463b69f800604c05a7a5a1065708f69c.jpg', 'scal_000004_5ede0de61cb841d2bdaf1f621561f02b.jpg', '000003_71685abc503d4dff994c24740fa5cfdc.jpg', 'scal_000003_e2598927fd574d99a807615e3fccb35d.jpg', '000005_86f9fadee1b3491da742b39726adf49b.jpg', '000002_9743d136a1a0423ab6619f0ec41de926.jpg', '000002_f33b0a24bc024c738cb730e265724e63.jpg', '000001_cab63118c74d4f3a9d2f3a4ff2efccaf.jpg', 'scal_000005_cf3d9c32607242419328d38c6a45fa17.jpg', '000002_3a9eb932a1494fde80396a9dcae71418.jpg', 'scal_000002_6f675dbbc71c4571aeebc305218b6d5a.jpg', 'scal_000002_b42065dd33c440069cb1a0e1aea6578b.jpg', 'scal_000005_7516b3742fec4a68991a3f6c74398c1a.jpg', '000005_bf2987bcb3ee4a0599480377cb02c123.jpg', '000002_d9b7c6b307b84081911fff7254904d6a.jpg', 'scal_000003_3389c09b239a48e3a10ca0d581023c02.jpg', 'scal_000002_086b15d519bb4a14b3b822d64d9b201e.jpg', '000001_36607cc324b64f48b580aa0678bdd732.jpg', '000004_65612db1c7e4422dadd8f164834b4b76.jpg', '000004_8cd638cafc26447aa5b305380ef69f37.jpg', 'scal_000001_c3b97a659d1d40fa967d8a909d87dfce.jpg', 'scal_000004_af8cd81defb3430c89b555834ec13426.jpg', 'scal_000001_d22a6e8e105c44f79353cb079e420024.jpg', '000004_c9ce165af9474cf995302dbcc2f32dbb.jpg', '000001_9575759fc1d14403937d1dc4e31edc73.jpg', 'scal_000005_2c8789777b2b430b817bcaff8d0525bc.jpg', '000003_5d36421a0d98452e9186f0b06f0c0cdf.jpg', 'scal_000001_9f355e98471743a49da65e1365c48cfc.jpg', '000001_c46e6a30bc9040988a9e53bb14996b7d.jpg', 'scal_000003_31840ee591cf4625930444e42ce7fb08.jpg', 'scal_000005_64d399b2c80540a8aac90a0535b34942.jpg', 'scal_000003_3bb2766b0d1b460f90a9123589e8bdf2.jpg', 'scal_000003_fffd6eee51f34f2dbfb97363b9c47670.jpg', '000005_59e0b9d8546c4a18b2c8cd38fd47822c.jpg', 'scal_000004_0274e3e57dc346d98bfaa0b184631f7d.jpg', '000001_1f434792fac3444db720f83445ed4926.jpg', '000004_c857ecbae5c04d6ab2c18c87652eef73.jpg', 'scal_000001_35dea3d7d3d146b8b07537b49dcc6e20.jpg', 'scal_000002_f667c478669c486882bb6d08c46de599.jpg', '000004_6d67b33ded244533bce8308f077f364c.jpg', '000005_477d040be17942caa83f85ee2abb8dd1.jpg', 'scal_000001_50709a45c7c14ba3979406e96e385d33.jpg', 'scal_000003_fd70d042187b43f5983d16b7cf7361e4.jpg', '000004_99a54a68893745188d1ebe541037cb42.jpg', 'scal_000005_ddbec285001e40839c78296dbd959e8c.jpg', 'scal_000005_a9fc978a366049659c9b96aa1dc53a34.jpg', '000005_b4bf7e2c945c4313943daae6369ae188.jpg', 'scal_000005_bf7b5275fa604e7da4bfaca33d638285.jpg', 'scal_000005_9bb4323d8cc742e89548eb0e36916b06.jpg', '000001_72724d40a61440be86b57ac3e0b76bd9.jpg', '000005_504dfb5cb1a64eebafa8c14ed0a131bb.jpg', 'scal_000005_23259ca4c11c4f8aabb6c4412d7d0566.jpg', '000005_6fae22c60bb747759c0f6db88402037c.jpg', 'scal_000002_a32ee472e683412a8971cf7270e6246b.jpg', 'scal_000005_6667bc6760744b78accc21f23dbd7cf3.jpg', '000001_9601ef4c85484241800a06ac96343db4.jpg', '000003_a4d5f26fec4e425fb112a86324ca2173.jpg', '000005_f8133cb791664a43930d978f27bc87db.jpg', 'scal_000004_85f71a3da93942528aa86e85b9b73b77.jpg', '000003_c2ea374511004b11980d8ba7a15ed3c3.jpg', 'scal_000005_aac9004679484df5a6d75c6278ff7e44.jpg', '000003_532c3063b2d745e997676315c8d2ebc2.jpg', 'scal_000002_1ee8c15ed7a34692bf5fb67ec5cacaf9.jpg', '000003_9c4ae8af7630417499439dff54b96dbf.jpg', '000004_628997fa20b0465ba0f3331031c76a5b.jpg', '000001_3ac23b42ba6c43fe94f23f7bb76bcaa1.jpg', '000001_b521865eaba14a39a2c1f9850d4d92b1.jpg', '000001_6ccf275b760a4ed28b55d6ca266078d7.jpg', 'scal_000005_ccf541e590624fe9a5f59d3fd3896408.jpg', 'scal_000005_2bf0bc6d138e410092d7ca7667135df0.jpg', 'scal_000004_e1345900713548cc8a87d99028106826.jpg', 'scal_000005_63cd00f970dc4924b83a7c5276d4967a.jpg', 'scal_000005_0dc4b2e6d9d84822963c70493996c6f9.jpg', '000002_f98590aa31f34f4fa1f867be517cc9ed.jpg', 'scal_000003_2435b1ad071a4941ae67bedb143287ca.jpg', '000002_b045a9058b9b48009cbd46ba327b7bde.jpg', '000001_f6535de8deb14e00b4d3b9bd7690e26a.jpg', 'scal_000003_88debb00d4344340a1b1f709b49dd84b.jpg', '000003_791b83aefac04e5490890111cbfa26c3.jpg', 'scal_000005_c82e1443a08e448e894d0586cbccd53c.jpg', 'scal_000005_2d42b95cc2844bf6896e368e26d26fcc.jpg', 'scal_000001_ecbb7003c257459e9a48ea38f5d98cf0.jpg', '000005_708cdaec823543b48f4b49321f9928ca.jpg', 'scal_000001_e209119cc3ac4d4d98a5f2d913b43c0e.jpg', '000001_e5f8f9fcb2074fcd8e213ad540ea2347.jpg', '000001_122c1c19f8f444c8bdd2d17ae2b4cbb2.jpg', '000002_333e413bf1984b05b7f88fecdaa18fc2.jpg', '000001_73d9aafa4ef84775af3d019494374d61.jpg', 'scal_000002_1d61ed66ed914b429d1393fe5eaacaee.jpg', '000005_3a2b74c45e794c6e99efcfdde358dc67.jpg', 'scal_000001_953d8ad0c15e47f38291a1d41cf76100.jpg', 'scal_000001_4bae2b6d3e69406c9a7feda9c85b60be.jpg', 'scal_000004_3da3be1d0ef0400cb72a2be396329706.jpg', '000005_4716ef32fff640ef9784b53cb6f89573.jpg', '000002_264eee6aa6df4d88a424d507f15aea63.jpg', 'scal_000002_8ce1f2c2455b411284347f5315e3bffd.jpg', '000002_59ab31de15914b578f394f453159081f.jpg', 'scal_000004_d6472327f9bf46b4b5e61a23f335a2a1.jpg', 'scal_000004_f8d338a96aee4441a89c12c5dd4428c6.jpg', 'scal_000005_6600ca11ceb644b2bc220d1bf59918e7.jpg', '000001_fda8d7a58ad44d009a3968250d1711b4.jpg', '000002_7719ff66474f4ab9939a308d6543986c.jpg', '000005_d0ae2ea0ee3d4dc6b7514d15acc53ad4.jpg', '000001_3f207604ea8241ff835a799da63f095e.jpg', 'scal_000001_b920f96620ac4dba87ef6bc8e6038ab3.jpg', 'scal_000004_0a1717bc8b4f4bf1b8010441178b54ef.jpg', '000002_fb8166c86f6b469b86371082e59ec745.jpg', 'scal_000003_2a53b775fa1d45eb873888a8f59a6704.jpg', 'scal_000001_418e6cbb298647bbbe6d0fa2103567c0.jpg', 'scal_000005_4f33775ab6aa497a8aa1e7091693a276.jpg', 'scal_000003_f5ca1592d5c64915acc343565da3b308.jpg', 'scal_000002_ac06e8c4c726466caa1f0d2407dc02bc.jpg', '000002_5562c531740c4a7cbb9949eb686ef6e6.jpg', '000005_89f3159b43914a7db6d84c656530eb42.jpg', '000003_70b7d1fcfb714e3093a9fad9dfc0adeb.jpg', '000001_3b1d3456392e4683ae5b6a1d55b64484.jpg', '000004_d6438098a31f439da8b804dce18fd87f.jpg', '000002_a039c6fa10dd43df854932b385a051ab.jpg', '000004_43fc72c0ef434f499075e8df7a56f1a9.jpg', 'scal_000003_9b3f0b57bef04f9f9e26fc72e3ef3791.jpg', '000002_9fbc67e75ba843fc88253d1d300f5d34.jpg', 'scal_000004_8f5536d87f5144ce9303aa230175c70d.jpg', '000005_4951fe142f8b47f7acd036d3d68c5cb7.jpg', 'scal_000002_8270118579184947b71398e9a80a18eb.jpg', 'scal_000003_ac3050ac4678452a94a2a20801bbc0ed.jpg', 'scal_000001_f7116cbf76b8406eb0de232436579334.jpg', '000004_4ff3aefe8ec4437a958fa2de4440047e.jpg', 'scal_000001_232720704d2a456280bda80a98f0ea3c.jpg', '000005_42b56deed8874877a68e348e45d4a641.jpg', 'scal_000003_aac7b433433f448a96eaa0838f9dee54.jpg', 'scal_000005_856f001d490949c18f9a1b048edc9974.jpg', '000003_97e013e3036c4b729311bdf0ad7d3015.jpg', '000004_a7d087b86f944b60b7ffb47a407b55e0.jpg', '000003_9df8c651226e4692921ded807f805f7a.jpg', 'scal_000001_7e6b0af3e6c14b78b53e4ae099589127.jpg', 'scal_000005_edff532c9a4846aba3f4737af5b84948.jpg', '000004_f2c46e95e5004e55a8e865342c063786.jpg', '000002_34ae26988000447e9fd1fe05873eba33.jpg', 'scal_000003_78d4ee94788b4c609d512ad520786b2a.jpg', 'scal_000005_d6ec83bf19da407c8ba0f700cf5ddeb9.jpg', 'scal_000001_593cadf18edf4d8ca0b4a60f20673814.jpg', '000002_a395065d5934458c94c054ad4da05dba.jpg', '000005_e876c88ae4b24c39996270ff9d0d1c44.jpg', '000002_bcefceec0708431789e83755bb48909f.jpg', 'scal_000002_727056cad31045bcb3433904fcd5402c.jpg', 'scal_000004_221c20aa56394693a8920c2d5d1fb65a.jpg', 'scal_000001_cc8129e4112f459e9a6ffac87777248b.jpg', '000005_9f533180a2eb421bab28d802ecea3248.jpg', 'scal_000002_8b372ddae33a497797cc3adf0a8a60d1.jpg', '000004_9805a5afa1d649249bd287d8cedd305c.jpg', 'scal_000003_49e9ca8166e442dbab96e139d8212530.jpg', 'scal_000001_e367eb885c724624aa5061a95f35f31e.jpg', '000005_ff6a10efec6c445eb7ce88171a126062.jpg', 'scal_000004_21191445f4224fb897153d8200077fa0.jpg', '000004_ebbee684697a497888ddfb3d4cab04b1.jpg', 'scal_000002_18d30a740ee446ba92cdb6fc37e85978.jpg', '000002_895ff5b50dcb400a8947f8196fc0dc2a.jpg', '000004_78066d7518f14519969d09d9984614df.jpg', 'scal_000004_8f476d82ba1d4403bf27319c2133b9e8.jpg', '000003_238529fd9fa2442787b089116c5abab3.jpg', 'scal_000001_0c45b22245e6435b972b8f2431e71c1a.jpg', '000002_07658bd8de0e47e69e589343ee8a7fa9.jpg', 'scal_000002_2dab5c0190ed4500bd862e5fd03fb81b.jpg', 'scal_000004_00db7607ba6a41aa968621936facb2c6.jpg', 'scal_000004_dbdfa40af0e14ed4a86237b132894a68.jpg', 'scal_000005_f5bc457a9a4546bab51acce230448ab1.jpg', 'scal_000001_c63197e030934a8aa878ff4f3e918f43.jpg', '000005_043588d102ab4a23bda68b0b6c4b41a2.jpg', 'scal_000002_3cec3a0a813447f78347d1e1f89c94e8.jpg', 'scal_000002_eb84c1c1de8c441f903b781c4c96deb7.jpg', 'scal_000004_b930932fbc2b49f48d17075dc3a2078f.jpg', '000004_6d931dc664b64147878666f5ae4f2d03.jpg', 'scal_000002_3c64c31787a24914ac66a7b9c124e1e7.jpg', '000001_acda83e0f86041179380df6fa3ee28d8.jpg', 'scal_000002_40e7190bfd1b44988e63d0af7af39572.jpg', 'scal_000001_61bad32dd3f243038973157a1fc80350.jpg', 'scal_000004_6775a54af38041f3853413f6a5893809.jpg', '000001_de6f53b218e14eae82146ef03fccb279.jpg', '000001_89f604a41f5446c897fee5aada32e060.jpg', '000003_d7dd921e709b4837849e509852d742b4.jpg', '000003_222a0ed6f3bf41e3b7f03c1fb0683cc7.jpg', '000001_7c428d76eff2446ebb0dde0d1cfff86f.jpg', '000003_f42e4b4b804f4964be6a31efd5ed198a.jpg', 'scal_000001_43867b4409774fadab86849a7aac52a1.jpg', 'scal_000001_69f6678014854e4997a8dcdd8f69d8e7.jpg', 'scal_000004_241a45e5a7da47c4b1e4d84611af6f0f.jpg', '000002_0dc745d0611c4011b13b87dadc7ac6a5.jpg', '000003_e65ccac08f7140daa7a2aa6d2384a278.jpg', '000002_f5e4c1790c1f4cbea1b6b4a36c949ecd.jpg', '000001_0c24510ac5084d43866538a629efeab1.jpg', 'scal_000003_f06dc522308a422290eb15eafc3a6fd7.jpg', 'scal_000003_657e081ae7334145a84b850e777ee044.jpg', '000002_75991f9ee6a6445abfb778f251bc8b84.jpg', '000002_e912e753abf34b318ce1b18a7be5c39e.jpg', 'scal_000001_f0996e3ac7f54c468c28cc0952536925.jpg', '000001_b1cfa6d473464c1ea6d06e92d64aca76.jpg', 'scal_000003_d9117d71292d461faf02fb640b539071.jpg', '000002_500b48f82f314881a1c5d32986ae5a63.jpg', '000001_538acf33b9c34a0ba0d37debdaa143d0.jpg', '000002_f686aa2c6a3d4d5da3c27591c11de49c.jpg', '000005_f73def09f7254a2480a1cfd3ac533124.jpg', '000003_e2819f671c6f4d95af3c56de35aed5db.jpg', '000001_b9abe720870b473792cd21426bdfeab8.jpg', 'scal_000005_df731be7dda049d8a35461eebee7d2ad.jpg', '000004_d9dee476f4924a54a92ea6f182ddfba4.jpg', '000005_0f1abcc2488440ea99842821b699a8fa.jpg', '000004_c80b05ebffd64bd99282f6bb29686488.jpg', 'scal_000005_3d493583cf14470a81c527afc788bf6a.jpg', '000004_68bb314e53f04f1baa13bf2f3482e76e.jpg', '000004_60172e540d6343e4a53abb6c91cd12b2.jpg', '000003_ee369ad387b34005972242686da5ea34.jpg', 'scal_000002_f71e4c53f8a74d5a8a2ce1f0ab8dac1c.jpg', 'scal_000003_30bb1f3300fb4270999295016073fcba.jpg', '000002_ef240c137990445893110021636ec8cd.jpg', '000002_a5fb34ab3939410e90d52d043bd0d78c.jpg', 'scal_000001_3984a708b9394d9088a71205c73854f5.jpg', '000004_f3a0a37fe20d42ac92ecb91f16c54197.jpg', '000003_19fce93d57ac427f9adf7d85f350ba2e.jpg', '000004_37faae0e4ea246d0bb533c1292f512f9.jpg', 'scal_000004_5f4a0167aef44c6883816490f20c85cc.jpg', 'scal_000003_8f21bbd7c46841afafdd9221f6f761b7.jpg', 'scal_000004_aac0949d7a344ef0bb482956cd243732.jpg', '000004_70254ce0bac74622b420d9f5506ee0ad.jpg', 'scal_000004_68c96c61f5a249968d08f1d85119f208.jpg', '000004_88ce815b633d4a7eab3744cd23736f75.jpg', 'scal_000003_4073355da95c405892585d2e542d6284.jpg', 'scal_000003_91974c900f8c4fffaec6b883c8f3027d.jpg', 'scal_000002_7729e6472588416d8a2788cc85c11df6.jpg', 'scal_000001_568ab52fc85447eb8a073e795638349e.jpg', 'scal_000004_26e200ff064443cb90b83e3e6cc5be27.jpg', '000002_e3a89c7bd9fd43c882c72330a69ab93d.jpg', '000001_4d6d546ea6b744b6b03fc33cb9b58070.jpg', '000004_250a45d8bfbf47ed9788b526fc4e8452.jpg', '000004_480bfb72feb14ecd8c568d61499d2514.jpg', '000003_7cff5c6ba4d74f008fba7cedceb68c90.jpg', 'scal_000002_992f5030c30445aabc1a5cc2e5667cda.jpg', 'scal_000003_99554f7b480c49baac9ca8cd141fbf55.jpg', 'scal_000003_05483dbbef724399825cd57b382c5f4d.jpg', '000002_6c13fee46f774ecfac5851fbec786684.jpg', '000005_e575f58411d5408f80fafec56445a7e9.jpg', '000001_644de50699aa4058892e88b0a7281f8c.jpg', '000004_8a91eb63fcba4974b7dee170cbd63eec.jpg', '000005_959da2361eec4e15bf392c4a1f4b57e9.jpg', '000004_7f35250411c946e0809a95a793d60b40.jpg', 'scal_000002_4b01b21176334027859083c660eb0a6e.jpg', '000005_864ca52c74cc4946adaa776890325871.jpg', '000001_b413d95917404c4592ad63e8d24498cf.jpg', 'scal_000005_9d634f89f41443688ace1fccd9f20913.jpg', 'scal_000005_02095b7543bc49a59c438d5d63441d1e.jpg', 'scal_000002_deaa880e085940c5a58accfc002b9422.jpg', 'scal_000002_4d8a47b06eab4448a037994583c67e1e.jpg', '000001_96130119eb254bcc8ff546f365e16b81.jpg']\n",
            "439\n"
          ]
        }
      ]
    },
    {
      "cell_type": "code",
      "source": [
        "for i in range(439):\n",
        "  img_path='/content/train/Fake/'+fake_logo_folder[i]\n",
        "  img_pillow=Image.open(img_path)\n",
        "  img_color=img_pillow.convert('RGB')\n",
        "  img_resize=img_color.resize((64,64))\n",
        "  img_arr=np.array(img_resize)\n",
        "  data.append([img_arr,1])"
      ],
      "metadata": {
        "id": "etEHduhBJCFu"
      },
      "execution_count": 11,
      "outputs": []
    },
    {
      "cell_type": "code",
      "source": [
        "genuine_logo_folder=os.listdir('/content/train/Genuine')\n",
        "print(genuine_logo_folder)\n",
        "print(len(genuine_logo_folder))"
      ],
      "metadata": {
        "colab": {
          "base_uri": "https://localhost:8080/"
        },
        "id": "LoIOUfkbJuF1",
        "outputId": "daad47ce-5208-4070-9ccc-70f96559b0fe"
      },
      "execution_count": 12,
      "outputs": [
        {
          "output_type": "stream",
          "name": "stdout",
          "text": [
            "['000005_b72b53b9100a4d2a89beaf431caf08c5.jpg', '000003_56980ae8fbe6493aa1d2baf201a5ba67.jpg', '000004_27faebf251d24522a19e5b4412b1cd73.jpg', '000005_27f396005a7f4e7d89a3c381f98328ca.jpg', '000001_ee1c817ab6374d7eb855e0b24fce7bfd.jpg', '000002_6d5b09bf75124f7ca31d2df937672663.jpg', '000003_3f5cfd980562453ab99f3e16250fc752.jpg', '000004_82d0437f56094b409c0e543d0c918d4c.jpg', '000005_cfeef2df9fff4fc6ae2acf0e77798ef3.jpg', '000002_8f62883b16824f22bde16d585240f61b.jpg', '000003_4b4d618c6d76415cb69ad5a2a258db5f.jpg', '000005_7577aad96d5e4703b969a25a0d5906b9.jpg', '000001_132612d8fb7f42aba0b4f370908123d5.jpg', '000002_210dd0eac9dc4c7299442e58a03b7baf.jpg', '000001_2f924414e9af43e790e0c727418833d5.jpg', '000002_524eb369e1fb43108e67798301e12531.jpg', '000001_51a7227ce74f4aaf87ca9699e902bd91.jpg', '000002_14d1fd241ea946c98895901bf2b08cee.jpg', '000004_7e9edf45e65b41f8a68fbe3b6bb750b5.jpg', '000003_fe0a6bdb80a04afc8d737d106353eddd.jpg', '000003_0ef19501d88d47f8a65e60e32e50a612.jpg', '000005_62206d8296cf4495808d87a5c8366c4d.jpg', '000004_ad033155713f43f88154e7ee9164cd62.jpg', '000004_a8cde2b5eca846d7aa9cfc2c3f80753f.jpg', '000004_26a72c380f9a4d55b9a03eed3d10ed63.jpg', '000002_234283a137484e78a244b2104c725aff.jpg', '000005_c16733bca73448ea926c32cea1f77950.jpg', '000001_45718ba5762140b0b724b0596a061644.jpg', '000001_60a092f3835e4cd19f7f5cef083fcf0c.jpg', '000004_b4cb3f848e8c42d4846885e319b98a9e.jpg', '000005_5196eb0cc20e4a7096e2c7a8adf1da0c.jpg', '000001_e4c533ad6c0247b98fae0a1a0db717de.jpg', '000001_d1eb69e15c71489e84aa42e81862b15c.jpg', '000002_bd6b8165670443bc83881c285ab78742.jpg', '000005_b8d179214b4c4086887a88f6d9a34194.jpg', '000002_b137bccac9de43f4bbd33a5d69008965.jpg', '000005_3269f35cc63e4363b0f7a56d6d5f1073.jpg', '000003_3d37c4c30fe0471cb0286a5b3fbd4096.jpg', '000002_1aca1f0c30ee411fb7d7bb46745907b5.jpg', '000001_b9385a4d20f248dea45d6a55c90cf780.jpg', '000005_e3e5b6cf81654eceb4ff58f7eda7bca2.jpg', '000002_ee463c6bfb8547b09ad1e17166a8a49f.jpg', '000001_39411713f37f4f8fa3284d4974ba7928.jpg', '000003_0a14448086d540169fbb3909369fdffd.jpg', '000005_8078d528e175433a9947724d7effef40.jpg', '000003_df8faa2d664549aba5c1bc26ae55da05.jpg', '000004_335e51554f5a4db4a02c4fda4025fa01.jpg', '000001_74394ef953024430b6803bbb93382b16.jpg', '000001_bd50701e8ead4d5bb46732f8cfd9cf22.jpg', '000001_3d800bfbd3ca4378b4cdc45cb6acef3c.jpg', '000001_363e0115192442299fb1c86faf95f607.jpg', '000002_528102b6bf2f4ef8b9f81b9a0cf5529f.jpg', '000004_cf977a9f8e1d4b29a1e9ff36f83abc79.jpg', '000003_0dcdadc4666c499d97bd7aa94c0239ee.jpg', '000002_791cf42567054234be03c30afeba9f36.jpg', '000002_a679766b1c8246f3b378c6fac4353ef2.jpg', '000003_2afd23a75c044e389745e28c1ca1d3ed.jpg', '000003_5a1a9b231fa94dc582dec52f0214429b.jpg', '000003_b207e95fa4e7467fa640a982312e4f8e.jpg', '000003_e65155275b3f4ec58c4c386c13539992.jpg', '000003_947d2d8166b34a0b9511dfcdb6bd004e.jpg', '000002_508910bfee674e7f91f83a3ebaf9fef8.jpg', '000002_406b2636873d48cd8a4a33b0c613318e.jpg', '000004_f84a7ef2e92f4d53ad40166e633dce8b.jpg', '000004_f1f860f8b3784355872c5c09c17002ba.jpg', '000005_7f99b1543f264812ae29746ca59d6fac.jpg', '000003_95cf1e9722164318ba99e1945364f27a.jpg', '000002_5b725abe9dc24e6988db55564a361f9b.jpg', '000005_f395f2500e484c95b3c7d9660b800f11.jpg', '000001_c9437c96cfd7439c9f0ca5ce19a7472f.jpg', '000001_ab553843793345c6ac63f2215358a857.jpg', '000002_da711bf28f774c8cae392a0f1087ae54.jpg', '000004_c1f578b708d54c639047f5aa366c6746.jpg', '000004_6b1abcd3b58e4a0ab96fec955b5b684f.jpg', '000002_611998c4cf2e43ee992b59f5e7e68eb4.jpg', '000003_285b0ebde70c403e99852215949796d4.jpg', '000002_fcbd950c7bb14e02aa93ec62b5459a4d.jpg', '000003_197093d86f6f45bd972f41988306751e.jpg', '000002_78c9151b4b5e4c3a9d7d3ebc669ff875.jpg', '000004_356fc4ce71814ed9a4a6a15398789d7f.jpg', '000001_0b27460ce781420f8c1e486a60adaae3.jpg', '000003_7b6d0684843e4ceba9ced4741fac87b1.jpg', '000002_9be590235b6a44b298998cf70c7024ea.jpg', '000002_3ba976b371d34381a0cd58727110ffac.jpg', '000004_acf263d007694f41ab782b54690eea5f.jpg', '000003_736d499877254a6ab961b70ff7a20190.jpg', '000002_13c99442315c48c49cb0fc8e98f10eca.jpg', '000003_155f673ae9294e30a3c44a4afe5781b9.jpg', '000004_0c2b3153bdac407697af245e0d66e364.jpg', '000002_78f29ebd9edd4aa5882953f334f54bef.jpg', '000003_e22cf7dea3b84e8ebd7f76c488cd305c.jpg', '000004_4417062396014ced99f913ed3d574a07.jpg', '000004_35a48987600c4af991e63ad4ee1532a0.jpg', '000004_03777a147e4a40819b0e20263949543b.jpg', '000005_d76b830336914ba7b6059e38c137b608.jpg', '000001_2bf695e1a0de4a6abad716dfde74b709.jpg', '000001_08f7fb807cfd478b9f8eeb70e435e3df.jpg', '000005_6143fb05dec9437d9502979907162644.jpg', '000004_4f44a203dabf4525832387bec8c4df85.jpg', '000005_a2efb790d9184fd5ba7de4a1f5529bc8.jpg', '000004_9bf73fcef2974cb6a59c0e8bffb82064.jpg', '000005_36a401659400422f97a6f44821303d75.jpg', '000004_9338801ba7a343f2b686a47da233eff5.jpg', '000003_9d364e101f19448fab18a179b0c61024.jpg', '000004_ad0bef76cbca40bfbf0d142d8501877e.jpg', '000002_5692f99241a145688175d9e4583e70fd.jpg', '000005_fcbc8af3eaf541d3b2e69f610f8e3004.jpg', '000002_47512ad53d694105bdcfa2ab35cd9525.jpg', '000004_3dfc4d11c484459aa29e1fd6c31c892d.jpg', '000002_8ac911edeb484a94a84b387c9e49bd48.jpg', '000004_11f2b716b09e41c1a9d44885f1028ecf.jpg', '000001_d89d33a3c96f4ab58218a8c5a38fa2a3.jpg', '000004_0e54c59ff6044b2f84c59451d263929a.jpg', '000001_8c5e339d2ddf4d0d9574c861e14a8276.jpg', '000003_f8c8710103b04737b263f6dbba32bf15.jpg', '000004_8ddce89a23954960af1342de33a7ab06.jpg', '000001_122b2e8823614e2e944ad89efd25884d.jpg', '000003_d7964c4b90c34572afa65c3e0b8b3178.jpg', '000003_8b7d997c47e0493a8a11687ae42268d1.jpg', '000005_32b3aadfa52e4441854c0f47ac02d26a.jpg', '000001_3817a9c06c0b4dec99d305a578de0cdd.jpg', '000004_04296a7c64944c68b5fc7fc72b195a40.jpg', '000003_36b6d5f1280b4e6598b8526fc4d6a372.jpg', '000005_99963608539c424fb95992560b4b20d0.jpg', '000005_55a9cf72464048f986ed70b7d1dd1055.jpg', '000003_e1c00c2169ca408c93ef38084bca8e0b.jpg', '000005_37dae266763745cd857efc335e569dac.jpg', '000003_70e9897d21b44d3dbea5baee08146005.jpg', '000004_a39c154a974d498a83821071f6610fd7.jpg', '000002_cff55b3dfa2f470984c1f5304c50ee74.jpg', '000005_1250b5e8a2294925bafb8c8e5dcd729b.jpg', '000001_c5edaf76d3914c0f8984513900d73a44.jpg', '000004_45af8c1a393a4edaa130e730cd96351c.jpg', '000002_5af1724e489e4571967840bafe1adb6d.jpg', '000002_0c117c2e37cd48979f46b1dd1f39847e.jpg', '000003_7c0046c5cd924db5a42692828dabf232.jpg', '000005_887807fc310944f193492f244fad799b.jpg', '000002_a3efed003299442ca801ba3773d26685.jpg', '000005_300a71f1f79949e283baba205205285c.jpg', '000003_dbe50da5c21f42968e6da9ba088129c3.jpg', '000003_1facb0369a2b4c3c8bfe82a0e6f87f8c.jpg', '000005_270e324ffc9c445182f2cee06e7303e0.jpg', '000001_74dc7373d34e45edb80132d555d4884e.jpg', '000002_24cb80f011a94d0f9c435b81b5edd0f5.jpg', '000005_7725cbc6c0d04b51adb1c6b20675cc9e.jpg', '000001_da4b35e2c3cb4ea8bc01dd2cbcb9dd3c.jpg', '000002_9c4afc271ec642a89dcb07fbb9284024.jpg', '000004_fbc769ca190c41838bf41b8efb281b4e.jpg', '000004_693c458614064a7aafa6ef01e804b8b8.jpg', '000001_db6b7460a48e4c75ac48793cf8975200.jpg', '000003_d90df1b3fdee4ce2b7912007d9f21963.jpg', '000001_49e9f6219d29493aa6606129ad648744.jpg', '000003_e88c57b38d614db688fac04618baa753.jpg', '000001_a64a8aa8b3a2447d8291fee86ed70510.jpg', '000004_c5d427a7828840908e79331b9fde9085.jpg', '000005_684ddfeb89c249a0b5739ed2c738e58c.jpg', '000001_cfdc7249c4324cbd9e6a16d0f3c45e84.jpg', '000001_f273a687acbc4e11862edbc603a2c34a.jpg', '000005_ff8ef3ca6326406c8d263a10bcf26346.jpg', '000001_f7ef42036fd8484eac2245e988bc5373.jpg', '000004_917a738042794f4d9345005931bcbd45.jpg', '000001_4606e87688ce4c7486ff9fa0045d1f4c.jpg', '000002_6f89cae868944c3c83b61acefd8bc81e.jpg', '000005_0fc3af0fdd8f4dfd9c8527d3dc151bc3.jpg', '000004_0edda81545c24ca1be029b96e8d29608.jpg', '000001_d8b65fbb474c48f1ad1fa96a7430594a.jpg', '000002_44ff6ee1a0d24b99bcd9b2b70cf9d684.jpg', '000002_986d43e7f46e42b4b9ce07786f45090f.jpg', '000002_75286c4000d8466b97d333c84b6c456d.jpg', '000004_f21cbfcec625499491ef16566646d253.jpg', '000001_07cbc019bcf34352bf73e821ae50340a.jpg', '000005_e0897f4c97a241d3af927a50c4413d8a.jpg', '000001_7f64abf5c58f45a3bfd14ecebd72af0f.jpg', '000005_d13b22afa54c4a278ef4e26c803bb43c.jpg', '000005_40562d5ab01c426487ace4ee17e96933.jpg', '000005_8099858e7e2f40c091c7533ecb1e29f2.jpg', '000005_2b6d2cc4cd4048d993136b413da09dc1.jpg', '000004_03aca2d19bbb459f8523712c83bfe1a5.jpg', '000002_025f8152daa24effa1112a99a07924f4.jpg', '000004_5816317d3da94a448b847ff0024bfce1.jpg', '000002_6b89b275baab4dd2a13af38f016b960b.jpg', '000004_8c95c1461b3f4f73b6d749e2326fbd92.jpg', '000003_948bbae77e754d84a05933cf25ec038b.jpg', '000003_f0c35a50ee8f4ec6806e8320e57067fe.jpg', '000005_f4ae804b67304a5cbbd071b2837689e0.jpg', '000002_f4e9619c33fe4640b31c7c286e1096d8.jpg', '000001_b341fa62b8884b6ea06b5d3f1d4a00bc.jpg', '000003_ab4f23758f2640f7a06171428b313ca1.jpg', '000001_e2e5f5f7c0fd4d678fcca19ac4166fe1.jpg', '000001_c8a6be4b78ae4bbe90af4785af69aa46.jpg', '000001_1691f0b22e2d4ca794ac635bf747baab.jpg', '000004_6098701be63e444982397171c82e5037.jpg', '000005_acc2740141074984b68a2e37d39ca446.jpg', '000003_9b0a7ffb9cec41b2acd283ed706eb14c.jpg', '000001_3bea265b275a44259cbee8e31fc756d4.jpg', '000004_4092987efd1c42b9ae169e0d5222d817.jpg', '000005_3740d418a4de49d48b8d77e742a1e0bd.jpg', '000003_4afbaec01023444ab21c967bd6751136.jpg', '000004_9881bb7c1b0744bcafbd5fcd127d54cf.jpg', '000004_07eccfd687c64b98a2d093fb1b5914a1.jpg', '000004_18181f0256aa403dbd2fc21330e49299.jpg', '000003_58cf8cb7032849c2b61f63a62d206ba0.jpg', '000002_385b9908da7f4f8c91245c30944f51ea.jpg', '000003_2a54cc642d684acc8f087051e6d47ef1.jpg', '000004_903be705dbf54c90b63ba2c333e83f5e.jpg', '000001_c9fa7c95b77145ad82f3e0315e77afd8.jpg', '000002_347e95e5b90141a68da4b89ad0026a72.jpg', '000001_8dcd9444146b4c25adf731e0d0fde777.jpg', '000002_66067bd224924316a1c5670516d397b1.jpg', '000005_4c7cdfdc91dd479fb4ce3c4b4ff17632.jpg', '000003_0737a09621ef4e5097ea663e8c10fe72.jpg', '000005_0a6540a9e0ab45c4a7866c98f54abd3a.jpg', '000005_15730a8836d845e0a70c613e7d2100f4.jpg', '000003_518b09f32fb1427797458657cef5f83d.jpg', '000005_931d69a2ac1d48b1b23b80537c5e33c7.jpg', '000003_09277575c15d470c83acb9c9d4f93c54.jpg', '000002_e741684384c649bfa463b4bd14889df2.jpg', '000004_947ef8b72eed42348bac9365de476674.jpg', '000005_78eb1dc5798e4967a760c046bf10e743.jpg', '000001_2aa7a2ac4e9d4b9c9cae61e0a12bf32c.jpg']\n",
            "220\n"
          ]
        }
      ]
    },
    {
      "cell_type": "code",
      "source": [
        "for i in range(220):\n",
        "  img_path='/content/train/Genuine/'+genuine_logo_folder[i]\n",
        "  img_pillow=Image.open(img_path)\n",
        "  img_color=img_pillow.convert('RGB')\n",
        "  img_resize=img_color.resize((64,64))\n",
        "  img_arr=np.array(img_resize)\n",
        "  data.append([img_arr,0])"
      ],
      "metadata": {
        "id": "eYLwK72ZKDzf"
      },
      "execution_count": 13,
      "outputs": []
    },
    {
      "cell_type": "code",
      "source": [
        "x=[]\n",
        "y=[]\n",
        "for img,label in data:\n",
        "  x.append(img)\n",
        "  y.append(label)"
      ],
      "metadata": {
        "id": "MaNFR4znKN1E"
      },
      "execution_count": 14,
      "outputs": []
    },
    {
      "cell_type": "code",
      "source": [
        "x=np.array(x)\n",
        "y=np.array(y)"
      ],
      "metadata": {
        "id": "qs_lCu8OKXvO"
      },
      "execution_count": 15,
      "outputs": []
    },
    {
      "cell_type": "code",
      "source": [
        "from sklearn.model_selection import train_test_split\n",
        "x_train,x_test,y_train,y_test=train_test_split(x,y,test_size=0.1,random_state=0)"
      ],
      "metadata": {
        "id": "gxLDGtr0KatW"
      },
      "execution_count": 16,
      "outputs": []
    },
    {
      "cell_type": "code",
      "source": [
        "x_train_scaled=x_train/255"
      ],
      "metadata": {
        "id": "ktWUn--0Koxc"
      },
      "execution_count": 17,
      "outputs": []
    },
    {
      "cell_type": "code",
      "source": [
        "import tensorflow as tf\n",
        "from tensorflow import keras"
      ],
      "metadata": {
        "id": "ncu7Cqs3KsWn"
      },
      "execution_count": 18,
      "outputs": []
    },
    {
      "cell_type": "code",
      "source": [
        "num_of_classes=2\n",
        "model=keras.Sequential()\n",
        "\n",
        "model.add(keras.layers.Conv2D(32,kernel_size=(3,3),activation='relu',input_shape=(64,64,3)))\n",
        "model.add(keras.layers.MaxPooling2D(pool_size=(2,2)))\n",
        "\n",
        "model.add(keras.layers.Conv2D(64,kernel_size=(3,3),activation='relu'))\n",
        "model.add(keras.layers.MaxPooling2D(pool_size=(2,2)))\n",
        "\n",
        "model.add(keras.layers.Flatten())\n",
        "\n",
        "model.add(keras.layers.Dense(128,activation='relu'))\n",
        "model.add(keras.layers.Dropout(0.5))\n",
        "\n",
        "model.add(keras.layers.Dense(64,activation='relu'))\n",
        "model.add(keras.layers.Dropout(0.5))\n",
        "\n",
        "model.add(keras.layers.Dense(num_of_classes,activation='softmax'))"
      ],
      "metadata": {
        "id": "Qd94jvlvKzv2"
      },
      "execution_count": 19,
      "outputs": []
    },
    {
      "cell_type": "code",
      "source": [
        "model.compile(optimizer='adam',loss='sparse_categorical_crossentropy',metrics=['accuracy'])"
      ],
      "metadata": {
        "id": "G-9-HLw4K6kW"
      },
      "execution_count": 20,
      "outputs": []
    },
    {
      "cell_type": "code",
      "source": [
        "model.fit(x_train_scaled,y_train,epochs=50,validation_split=0.1)"
      ],
      "metadata": {
        "colab": {
          "base_uri": "https://localhost:8080/"
        },
        "id": "xH68M5yLLEgs",
        "outputId": "4f96cdde-7f37-414f-8071-745d4742fd4a"
      },
      "execution_count": 22,
      "outputs": [
        {
          "output_type": "stream",
          "name": "stdout",
          "text": [
            "Epoch 1/50\n",
            "17/17 [==============================] - 6s 360ms/step - loss: 0.4661 - accuracy: 0.7280 - val_loss: 0.5875 - val_accuracy: 0.6500\n",
            "Epoch 2/50\n",
            "17/17 [==============================] - 3s 201ms/step - loss: 0.4624 - accuracy: 0.7054 - val_loss: 0.6304 - val_accuracy: 0.6833\n",
            "Epoch 3/50\n",
            "17/17 [==============================] - 3s 171ms/step - loss: 0.4602 - accuracy: 0.7167 - val_loss: 0.6349 - val_accuracy: 0.5500\n",
            "Epoch 4/50\n",
            "17/17 [==============================] - 3s 175ms/step - loss: 0.4491 - accuracy: 0.7636 - val_loss: 0.6530 - val_accuracy: 0.6167\n",
            "Epoch 5/50\n",
            "17/17 [==============================] - 4s 214ms/step - loss: 0.4229 - accuracy: 0.7467 - val_loss: 0.7207 - val_accuracy: 0.5667\n",
            "Epoch 6/50\n",
            "17/17 [==============================] - 4s 209ms/step - loss: 0.4446 - accuracy: 0.7336 - val_loss: 0.6563 - val_accuracy: 0.6000\n",
            "Epoch 7/50\n",
            "17/17 [==============================] - 3s 172ms/step - loss: 0.4456 - accuracy: 0.7355 - val_loss: 0.7565 - val_accuracy: 0.5500\n",
            "Epoch 8/50\n",
            "17/17 [==============================] - 3s 168ms/step - loss: 0.4221 - accuracy: 0.7674 - val_loss: 0.8582 - val_accuracy: 0.5500\n",
            "Epoch 9/50\n",
            "17/17 [==============================] - 6s 369ms/step - loss: 0.4160 - accuracy: 0.7955 - val_loss: 0.6941 - val_accuracy: 0.5667\n",
            "Epoch 10/50\n",
            "17/17 [==============================] - 5s 313ms/step - loss: 0.4036 - accuracy: 0.7861 - val_loss: 0.7691 - val_accuracy: 0.5833\n",
            "Epoch 11/50\n",
            "17/17 [==============================] - 4s 241ms/step - loss: 0.3865 - accuracy: 0.8086 - val_loss: 1.0022 - val_accuracy: 0.6167\n",
            "Epoch 12/50\n",
            "17/17 [==============================] - 6s 341ms/step - loss: 0.4418 - accuracy: 0.7505 - val_loss: 0.7499 - val_accuracy: 0.5500\n",
            "Epoch 13/50\n",
            "17/17 [==============================] - 5s 271ms/step - loss: 0.3836 - accuracy: 0.7917 - val_loss: 0.7813 - val_accuracy: 0.5833\n",
            "Epoch 14/50\n",
            "17/17 [==============================] - 3s 175ms/step - loss: 0.3459 - accuracy: 0.8161 - val_loss: 0.8487 - val_accuracy: 0.5833\n",
            "Epoch 15/50\n",
            "17/17 [==============================] - 5s 322ms/step - loss: 0.3525 - accuracy: 0.8368 - val_loss: 1.0011 - val_accuracy: 0.6000\n",
            "Epoch 16/50\n",
            "17/17 [==============================] - 5s 268ms/step - loss: 0.3312 - accuracy: 0.8518 - val_loss: 0.8749 - val_accuracy: 0.5833\n",
            "Epoch 17/50\n",
            "17/17 [==============================] - 3s 190ms/step - loss: 0.3089 - accuracy: 0.8687 - val_loss: 0.8926 - val_accuracy: 0.6000\n",
            "Epoch 18/50\n",
            "17/17 [==============================] - 5s 283ms/step - loss: 0.3001 - accuracy: 0.8555 - val_loss: 0.8466 - val_accuracy: 0.6000\n",
            "Epoch 19/50\n",
            "17/17 [==============================] - 5s 309ms/step - loss: 0.3236 - accuracy: 0.8443 - val_loss: 0.8289 - val_accuracy: 0.6167\n",
            "Epoch 20/50\n",
            "17/17 [==============================] - 3s 172ms/step - loss: 0.2743 - accuracy: 0.8837 - val_loss: 0.9267 - val_accuracy: 0.6000\n",
            "Epoch 21/50\n",
            "17/17 [==============================] - 3s 191ms/step - loss: 0.3268 - accuracy: 0.8330 - val_loss: 0.8439 - val_accuracy: 0.6333\n",
            "Epoch 22/50\n",
            "17/17 [==============================] - 4s 258ms/step - loss: 0.2668 - accuracy: 0.8856 - val_loss: 0.8757 - val_accuracy: 0.6167\n",
            "Epoch 23/50\n",
            "17/17 [==============================] - 5s 267ms/step - loss: 0.2604 - accuracy: 0.8762 - val_loss: 1.0127 - val_accuracy: 0.6000\n",
            "Epoch 24/50\n",
            "17/17 [==============================] - 4s 245ms/step - loss: 0.2477 - accuracy: 0.8987 - val_loss: 1.0189 - val_accuracy: 0.6167\n",
            "Epoch 25/50\n",
            "17/17 [==============================] - 4s 255ms/step - loss: 0.2083 - accuracy: 0.9137 - val_loss: 1.0992 - val_accuracy: 0.6167\n",
            "Epoch 26/50\n",
            "17/17 [==============================] - 5s 262ms/step - loss: 0.1862 - accuracy: 0.9250 - val_loss: 1.2998 - val_accuracy: 0.6000\n",
            "Epoch 27/50\n",
            "17/17 [==============================] - 4s 239ms/step - loss: 0.2210 - accuracy: 0.8968 - val_loss: 1.1590 - val_accuracy: 0.6167\n",
            "Epoch 28/50\n",
            "17/17 [==============================] - 4s 219ms/step - loss: 0.2993 - accuracy: 0.8555 - val_loss: 0.9082 - val_accuracy: 0.6667\n",
            "Epoch 29/50\n",
            "17/17 [==============================] - 5s 293ms/step - loss: 0.2086 - accuracy: 0.9081 - val_loss: 0.8284 - val_accuracy: 0.6167\n",
            "Epoch 30/50\n",
            "17/17 [==============================] - 4s 245ms/step - loss: 0.1920 - accuracy: 0.9268 - val_loss: 1.0201 - val_accuracy: 0.6667\n",
            "Epoch 31/50\n",
            "17/17 [==============================] - 4s 228ms/step - loss: 0.1729 - accuracy: 0.9193 - val_loss: 0.9880 - val_accuracy: 0.6333\n",
            "Epoch 32/50\n",
            "17/17 [==============================] - 4s 223ms/step - loss: 0.2289 - accuracy: 0.9062 - val_loss: 0.8645 - val_accuracy: 0.6667\n",
            "Epoch 33/50\n",
            "17/17 [==============================] - 6s 351ms/step - loss: 0.1476 - accuracy: 0.9437 - val_loss: 0.9916 - val_accuracy: 0.6833\n",
            "Epoch 34/50\n",
            "17/17 [==============================] - 4s 234ms/step - loss: 0.1332 - accuracy: 0.9437 - val_loss: 1.0115 - val_accuracy: 0.6500\n",
            "Epoch 35/50\n",
            "17/17 [==============================] - 5s 276ms/step - loss: 0.1105 - accuracy: 0.9625 - val_loss: 1.5923 - val_accuracy: 0.6333\n",
            "Epoch 36/50\n",
            "17/17 [==============================] - 5s 286ms/step - loss: 0.0856 - accuracy: 0.9719 - val_loss: 1.4269 - val_accuracy: 0.6167\n",
            "Epoch 37/50\n",
            "17/17 [==============================] - 4s 222ms/step - loss: 0.1288 - accuracy: 0.9512 - val_loss: 1.6253 - val_accuracy: 0.6333\n",
            "Epoch 38/50\n",
            "17/17 [==============================] - 3s 178ms/step - loss: 0.1656 - accuracy: 0.9325 - val_loss: 1.1650 - val_accuracy: 0.6333\n",
            "Epoch 39/50\n",
            "17/17 [==============================] - 4s 243ms/step - loss: 0.1456 - accuracy: 0.9531 - val_loss: 1.2006 - val_accuracy: 0.7000\n",
            "Epoch 40/50\n",
            "17/17 [==============================] - 4s 222ms/step - loss: 0.1339 - accuracy: 0.9512 - val_loss: 1.4438 - val_accuracy: 0.6667\n",
            "Epoch 41/50\n",
            "17/17 [==============================] - 3s 197ms/step - loss: 0.1207 - accuracy: 0.9550 - val_loss: 1.0418 - val_accuracy: 0.6833\n",
            "Epoch 42/50\n",
            "17/17 [==============================] - 4s 240ms/step - loss: 0.0912 - accuracy: 0.9644 - val_loss: 0.9188 - val_accuracy: 0.7167\n",
            "Epoch 43/50\n",
            "17/17 [==============================] - 5s 320ms/step - loss: 0.0857 - accuracy: 0.9700 - val_loss: 1.1274 - val_accuracy: 0.6833\n",
            "Epoch 44/50\n",
            "17/17 [==============================] - 4s 226ms/step - loss: 0.0909 - accuracy: 0.9719 - val_loss: 1.5870 - val_accuracy: 0.7167\n",
            "Epoch 45/50\n",
            "17/17 [==============================] - 3s 181ms/step - loss: 0.1570 - accuracy: 0.9418 - val_loss: 1.2832 - val_accuracy: 0.6667\n",
            "Epoch 46/50\n",
            "17/17 [==============================] - 3s 189ms/step - loss: 0.1030 - accuracy: 0.9662 - val_loss: 1.1410 - val_accuracy: 0.6833\n",
            "Epoch 47/50\n",
            "17/17 [==============================] - 5s 283ms/step - loss: 0.1107 - accuracy: 0.9512 - val_loss: 1.3048 - val_accuracy: 0.6333\n",
            "Epoch 48/50\n",
            "17/17 [==============================] - 5s 298ms/step - loss: 0.1034 - accuracy: 0.9606 - val_loss: 1.0676 - val_accuracy: 0.7167\n",
            "Epoch 49/50\n",
            "17/17 [==============================] - 4s 211ms/step - loss: 0.0703 - accuracy: 0.9812 - val_loss: 1.2691 - val_accuracy: 0.7000\n",
            "Epoch 50/50\n",
            "17/17 [==============================] - 5s 295ms/step - loss: 0.0595 - accuracy: 0.9794 - val_loss: 1.4103 - val_accuracy: 0.7167\n"
          ]
        },
        {
          "output_type": "execute_result",
          "data": {
            "text/plain": [
              "<keras.src.callbacks.History at 0x7bfceb2cda20>"
            ]
          },
          "metadata": {},
          "execution_count": 22
        }
      ]
    },
    {
      "cell_type": "code",
      "source": [
        "img_path='/content/train/Genuine/000001_07cbc019bcf34352bf73e821ae50340a.jpg'\n",
        "img_pillow=Image.open(img_path)\n",
        "img_color=img_pillow.convert('RGB')\n",
        "img_resize=img_color.resize((64,64))\n",
        "img_arr=np.array(img_resize)\n",
        "img_scaled=img_arr/255\n",
        "img_reshaped=np.reshape(img_scaled,[1,64,64,3])\n",
        "prediction=model.predict(img_reshaped)\n",
        "print(prediction)\n",
        "output=np.argmax(prediction)\n",
        "if(output==0):\n",
        "  print('The LOGO is GENUINE')\n",
        "else:\n",
        "  print('The LOGO is FAKE')"
      ],
      "metadata": {
        "colab": {
          "base_uri": "https://localhost:8080/"
        },
        "id": "7xHThYrGLKxF",
        "outputId": "574e756b-7a76-4b4d-f21e-06ad7b96b6af"
      },
      "execution_count": 25,
      "outputs": [
        {
          "output_type": "stream",
          "name": "stdout",
          "text": [
            "1/1 [==============================] - 0s 37ms/step\n",
            "[[1.0000000e+00 1.2298834e-10]]\n",
            "The LOGO is GENUINE\n"
          ]
        }
      ]
    },
    {
      "cell_type": "code",
      "source": [],
      "metadata": {
        "id": "HGJ9esWkMZWP"
      },
      "execution_count": null,
      "outputs": []
    }
  ]
}